{
 "cells": [
  {
   "cell_type": "markdown",
   "metadata": {},
   "source": [
    "Contador de vogais"
   ]
  },
  {
   "cell_type": "code",
   "execution_count": 1,
   "metadata": {},
   "outputs": [
    {
     "name": "stdout",
     "output_type": "stream",
     "text": [
      "Vezes em que a vogal A apareceu: 52\n"
     ]
    }
   ],
   "source": [
    "nome = \"poema.txt\"\n",
    "vogal = input(\"Escolha uma vogal para buscar no poema: \")\n",
    "\n",
    "arq = open(nome, \"r\", encoding=\"utf-8\")\n",
    "\n",
    "conteudo = arq.read()\n",
    "conteudo = conteudo.lower()\n",
    "contador = conteudo.count(vogal)\n",
    "\n",
    "print(f\"Vezes em que a vogal {vogal.upper()} apareceu: {contador}\")\n",
    "\n",
    "arq.close()"
   ]
  }
 ],
 "metadata": {
  "kernelspec": {
   "display_name": "Python 3",
   "language": "python",
   "name": "python3"
  },
  "language_info": {
   "codemirror_mode": {
    "name": "ipython",
    "version": 3
   },
   "file_extension": ".py",
   "mimetype": "text/x-python",
   "name": "python",
   "nbconvert_exporter": "python",
   "pygments_lexer": "ipython3",
   "version": "3.11.4"
  },
  "orig_nbformat": 4
 },
 "nbformat": 4,
 "nbformat_minor": 2
}
